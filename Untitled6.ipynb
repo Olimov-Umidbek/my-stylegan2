{
  "nbformat": 4,
  "nbformat_minor": 0,
  "metadata": {
    "colab": {
      "name": "Untitled6.ipynb",
      "provenance": [],
      "toc_visible": true,
      "authorship_tag": "ABX9TyMGbGQQXsGTjY6DxIMCV9tG",
      "include_colab_link": true
    },
    "kernelspec": {
      "name": "python3",
      "display_name": "Python 3"
    },
    "accelerator": "GPU"
  },
  "cells": [
    {
      "cell_type": "markdown",
      "metadata": {
        "id": "view-in-github",
        "colab_type": "text"
      },
      "source": [
        "<a href=\"https://colab.research.google.com/github/Olimov-Umidbek/my-stylegan2/blob/master/Untitled6.ipynb\" target=\"_parent\"><img src=\"https://colab.research.google.com/assets/colab-badge.svg\" alt=\"Open In Colab\"/></a>"
      ]
    },
    {
      "cell_type": "markdown",
      "metadata": {
        "id": "qvqMcqDBpBxi",
        "colab_type": "text"
      },
      "source": [
        "Need to change tensorflow version to 1.x"
      ]
    },
    {
      "cell_type": "code",
      "metadata": {
        "id": "dn18SVgz2efc",
        "colab_type": "code",
        "colab": {
          "base_uri": "https://localhost:8080/",
          "height": 89
        },
        "outputId": "18be00a4-ff52-42db-c3c0-448ff32c277e"
      },
      "source": [
        "!free -h\n",
        "!nvidia-smi -L"
      ],
      "execution_count": 3,
      "outputs": [
        {
          "output_type": "stream",
          "text": [
            "              total        used        free      shared  buff/cache   available\n",
            "Mem:            12G        606M         11G        952K        721M         11G\n",
            "Swap:            0B          0B          0B\n",
            "GPU 0: Tesla P100-PCIE-16GB (UUID: GPU-7c0c7a9d-8654-81d0-0c05-493ec04045d4)\n"
          ],
          "name": "stdout"
        }
      ]
    },
    {
      "cell_type": "code",
      "metadata": {
        "id": "fwRUugAk2tg9",
        "colab_type": "code",
        "colab": {
          "base_uri": "https://localhost:8080/",
          "height": 323
        },
        "outputId": "0c5f783b-47bf-4280-99d7-23f1e6c2dadb"
      },
      "source": [
        "!nvidia-smi"
      ],
      "execution_count": 4,
      "outputs": [
        {
          "output_type": "stream",
          "text": [
            "Tue Jun  2 02:27:32 2020       \n",
            "+-----------------------------------------------------------------------------+\n",
            "| NVIDIA-SMI 440.82       Driver Version: 418.67       CUDA Version: 10.1     |\n",
            "|-------------------------------+----------------------+----------------------+\n",
            "| GPU  Name        Persistence-M| Bus-Id        Disp.A | Volatile Uncorr. ECC |\n",
            "| Fan  Temp  Perf  Pwr:Usage/Cap|         Memory-Usage | GPU-Util  Compute M. |\n",
            "|===============================+======================+======================|\n",
            "|   0  Tesla P100-PCIE...  Off  | 00000000:00:04.0 Off |                    0 |\n",
            "| N/A   36C    P0    26W / 250W |      0MiB / 16280MiB |      0%      Default |\n",
            "+-------------------------------+----------------------+----------------------+\n",
            "                                                                               \n",
            "+-----------------------------------------------------------------------------+\n",
            "| Processes:                                                       GPU Memory |\n",
            "|  GPU       PID   Type   Process name                             Usage      |\n",
            "|=============================================================================|\n",
            "|  No running processes found                                                 |\n",
            "+-----------------------------------------------------------------------------+\n"
          ],
          "name": "stdout"
        }
      ]
    },
    {
      "cell_type": "code",
      "metadata": {
        "id": "7FhRgx0q21Dt",
        "colab_type": "code",
        "colab": {
          "base_uri": "https://localhost:8080/",
          "height": 143
        },
        "outputId": "b6fdeb3d-c009-4f56-88cd-60ced8cf344b"
      },
      "source": [
        "!nvcc --version\n",
        "!lscpu |grep 'Model name'\n",
        "!lscpu |grep 'Core(s) per socket:'\n",
        "!lscpu |grep 'Model name'"
      ],
      "execution_count": 8,
      "outputs": [
        {
          "output_type": "stream",
          "text": [
            "nvcc: NVIDIA (R) Cuda compiler driver\n",
            "Copyright (c) 2005-2019 NVIDIA Corporation\n",
            "Built on Sun_Jul_28_19:07:16_PDT_2019\n",
            "Cuda compilation tools, release 10.1, V10.1.243\n",
            "Model name:          Intel(R) Xeon(R) CPU @ 2.00GHz\n",
            "Core(s) per socket:  1\n",
            "Model name:          Intel(R) Xeon(R) CPU @ 2.00GHz\n"
          ],
          "name": "stdout"
        }
      ]
    },
    {
      "cell_type": "code",
      "metadata": {
        "id": "yaCO7V6zw606",
        "colab_type": "code",
        "colab": {}
      },
      "source": [
        "l=[]\n",
        "while 1:\n",
        "    l.append(' ' * 10 ** 6)"
      ],
      "execution_count": 0,
      "outputs": []
    },
    {
      "cell_type": "code",
      "metadata": {
        "id": "pyjwQGGeaLKB",
        "colab_type": "code",
        "outputId": "25ba4a37-7fba-4183-9b5e-3b7eab35087b",
        "colab": {
          "base_uri": "https://localhost:8080/",
          "height": 35
        }
      },
      "source": [
        "%tensorflow_version 1.x"
      ],
      "execution_count": 2,
      "outputs": [
        {
          "output_type": "stream",
          "text": [
            "TensorFlow 1.x selected.\n"
          ],
          "name": "stdout"
        }
      ]
    },
    {
      "cell_type": "markdown",
      "metadata": {
        "id": "fQ7ba5JDpHPm",
        "colab_type": "text"
      },
      "source": [
        "After this aslo need to create folders"
      ]
    },
    {
      "cell_type": "code",
      "metadata": {
        "id": "93cH5be-ielv",
        "colab_type": "code",
        "colab": {}
      },
      "source": [
        "%%bash\n",
        "mkdir video\n",
        "mkdir train_data"
      ],
      "execution_count": 0,
      "outputs": []
    },
    {
      "cell_type": "markdown",
      "metadata": {
        "id": "yJEJ5vUSpN1N",
        "colab_type": "text"
      },
      "source": [
        "## Creating video folder, parsing, cropping and cutting. After all dividing to frames, all frames stored in frame folder."
      ]
    },
    {
      "cell_type": "code",
      "metadata": {
        "id": "u1GsBo-5nDDg",
        "colab_type": "code",
        "colab": {}
      },
      "source": [
        "%%bash\n",
        "cd video\n",
        "ls -al\n",
        "mkdir frames\n",
        "#apt-get install ffmpeg\n",
        "#ffmpeg -i output_video_file.mp4 -vf crop=1024:1024:0:28,scale=1024:1024,setsar=1 -c:a out.mp4 #(eto ne nujno)\n",
        "#ffmpeg -i videoplayback_1.mp4 -vcodec copy -acodec copy -movflags faststart output_video_file.mp4\n",
        "#ffmpeg -i output_video_file.mp4 -filter:v \"crop=1024:1024\" out.mp4\n",
        "ffmpeg -i out.mp4 frames/%03d.png"
      ],
      "execution_count": 0,
      "outputs": []
    },
    {
      "cell_type": "markdown",
      "metadata": {
        "id": "1yVLlyXbpm3h",
        "colab_type": "text"
      },
      "source": [
        "This step don't neccesary for us, however, you can do it this step if you want to build your project in your pc."
      ]
    },
    {
      "cell_type": "code",
      "metadata": {
        "id": "7Fkm3tpz8WJv",
        "colab_type": "code",
        "colab": {}
      },
      "source": [
        "%%bash\n",
        "cd video\n",
        "#tar cvzf - frames/* | split --bytes=400MB - sda%d.backup.tar.gz.\n",
        "#tar -cvf archieve.tar.gz frames/* \n",
        "tar -c -vz -f - frames | split --additional-suffix=.gz.part -b 500MB"
      ],
      "execution_count": 0,
      "outputs": []
    },
    {
      "cell_type": "code",
      "metadata": {
        "id": "L68NwoK8-BVf",
        "colab_type": "code",
        "colab": {}
      },
      "source": [
        "%%bash\n",
        "cd video\n",
        "find . ! -name '*.zip' -type f | xargs -n 500 | awk '{system(\"zip myarch\"NR\".zip \"$0)}"
      ],
      "execution_count": 0,
      "outputs": []
    },
    {
      "cell_type": "markdown",
      "metadata": {
        "id": "db5HxdWDp1po",
        "colab_type": "text"
      },
      "source": [
        "Clonning project from repository and extracting it"
      ]
    },
    {
      "cell_type": "code",
      "metadata": {
        "id": "PJ6zxah2Zuw0",
        "colab_type": "code",
        "colab": {}
      },
      "source": [
        "%%bash\n",
        "git clone https://github.com/NVlabs/stylegan2.git\n",
        "#mkdir train_data"
      ],
      "execution_count": 0,
      "outputs": []
    },
    {
      "cell_type": "markdown",
      "metadata": {
        "id": "29cwnnchp6Qh",
        "colab_type": "text"
      },
      "source": [
        "In this stage, we will prepare dataset model for training"
      ]
    },
    {
      "cell_type": "code",
      "metadata": {
        "id": "aNgOETK4aeHl",
        "colab_type": "code",
        "colab": {}
      },
      "source": [
        "%%bash\n",
        "cd stylegan2\n",
        "python dataset_tool.py create_from_images ../train_data/my-custom-data ../video/frames "
      ],
      "execution_count": 0,
      "outputs": []
    },
    {
      "cell_type": "markdown",
      "metadata": {
        "id": "9RLSI7XKqDJ1",
        "colab_type": "text"
      },
      "source": [
        "In this **stage**, we will running train model\n"
      ]
    },
    {
      "cell_type": "code",
      "metadata": {
        "id": "ml72ow3DhT7J",
        "colab_type": "code",
        "outputId": "acc45ccc-470e-4ec2-dbd2-ec93a296f877",
        "colab": {
          "base_uri": "https://localhost:8080/",
          "height": 307
        }
      },
      "source": [
        "%%bash\n",
        "cd stylegan2\n",
        "nvcc test_nvcc.cu -o test_nvcc -run\n",
        "\n",
        "python run_training.py --num-gpus=1 --data-dir=../train_data --config=config-f --dataset=my-custom-data --mirror-augment=true --metrics=None\n"
      ],
      "execution_count": 6,
      "outputs": [
        {
          "output_type": "stream",
          "text": [
            "CPU says hello.\n",
            "GPU says hello.\n",
            "Local submit - run_dir: results/00011-stylegan2-my-custom-data-1gpu-config-f\n",
            "dnnlib: Running training.training_loop.training_loop() on localhost...\n",
            "Streaming data using training.dataset.TFRecordDataset...\n",
            "Dataset shape = [3, 1024, 1024]\n",
            "Dynamic range = [0, 255]\n",
            "Label size    = 0\n",
            "Constructing networks...\n",
            "Setting up TensorFlow plugin \"fused_bias_act.cu\": Preprocessing... Loading... Done.\n",
            "Setting up TensorFlow plugin \"upfirdn_2d.cu\": Preprocessing... Loading... Done.\n"
          ],
          "name": "stdout"
        },
        {
          "output_type": "stream",
          "text": [
            "tcmalloc: large alloc 4294967296 bytes == 0x74f4000 @  0x7f5039eb8001 0x7f5036944765 0x7f50369a8bb0 0x7f50369aaa4f 0x7f5036a41048 0x50a635 0x50cd96 0x507d64 0x509042 0x594931 0x549e5f 0x5513d1 0x59fc4e 0x50d356 0x507d64 0x588e5c 0x59fc4e 0x50d356 0x507d64 0x588e5c 0x59fc4e 0x50d356 0x509758 0x50a48d 0x50bfb4 0x509758 0x50a48d 0x50bfb4 0x507d64 0x588e5c 0x59fc4e\n",
            "tcmalloc: large alloc 4294967296 bytes == 0x7f4e781c2000 @  0x7f5039eb61e7 0x7f50369445e1 0x7f50369a8c78 0x7f50369a8f37 0x7f5036a40f28 0x50a635 0x50cd96 0x507d64 0x509a90 0x50a48d 0x50cd96 0x507d64 0x509a90 0x50a48d 0x50cd96 0x507d64 0x509a90 0x50a48d 0x50cd96 0x509758 0x50a48d 0x50bfb4 0x507d64 0x509a90 0x50a48d 0x50bfb4 0x507d64 0x509a90 0x50a48d 0x50cd96 0x507d64\n",
            "tcmalloc: large alloc 4294967296 bytes == 0x7f4d771c0000 @  0x7f5039eb61e7 0x7f50369445e1 0x7f50369a8c78 0x7f50369a8f37 0x7f5002186f05 0x7f5001b0a742 0x7f5001b0acf2 0x7f5001ac3a7e 0x50a2bf 0x50bfb4 0x509758 0x50a48d 0x50bfb4 0x507d64 0x588c8b 0x59fc4e 0x50d356 0x507d64 0x509a90 0x50a48d 0x50bfb4 0x507d64 0x509a90 0x50a48d 0x50bfb4 0x509758 0x50a48d 0x50bfb4 0x507d64 0x509042 0x594931\n",
            "bash: line 4:  2755 Killed                  python run_training.py --num-gpus=1 --data-dir=../train_data --config=config-f --dataset=my-custom-data --mirror-augment=true --metrics=None\n"
          ],
          "name": "stderr"
        }
      ]
    }
  ]
}